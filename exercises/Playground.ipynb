{
 "cells": [
  {
   "cell_type": "code",
   "execution_count": 1,
   "metadata": {},
   "outputs": [
    {
     "data": {
      "text/plain": [
       "True"
      ]
     },
     "execution_count": 1,
     "metadata": {},
     "output_type": "execute_result"
    }
   ],
   "source": [
    "def func (*args, b=2):\n",
    "    results = (all(args), b)\n",
    "    return sum(results) == b\n",
    "\n",
    "func(7, 6, 7, 0, b=6)"
   ]
  },
  {
   "cell_type": "code",
   "execution_count": 2,
   "metadata": {},
   "outputs": [],
   "source": [
    "import numpy as np"
   ]
  },
  {
   "attachments": {},
   "cell_type": "markdown",
   "metadata": {},
   "source": [
    "### np.where(condition, [x, y, ]/) \n",
    "Return elements chosen from x or y depending on condition.<br>\n",
    "When only condition is provided, this function is a shorthand for **np.asarray(condition).nonzero()**. Using nonzero directly should be preferred, as it behaves correctly for subclasses.\n",
    "\n",
    "当condition是一个条件表达式时，np.asarray(condition).nonzero() 的作用是返回满足条件的元素的索引，即在condition中为True的元素所在的位置。这里需要注意的是，condition是一个布尔数组，因此True表示该位置的元素满足条件，False表示该位置的元素不满足条件。\n",
    "例如："
   ]
  },
  {
   "cell_type": "code",
   "execution_count": 14,
   "metadata": {},
   "outputs": [
    {
     "name": "stdout",
     "output_type": "stream",
     "text": [
      "(array([2, 3, 4], dtype=int64),)\n"
     ]
    }
   ],
   "source": [
    "arr = np.array([1, 2, 3, 4, 5])\n",
    "condition = arr > 2\n",
    "result = np.asarray(condition).nonzero()\n",
    "print(result)"
   ]
  },
  {
   "attachments": {},
   "cell_type": "markdown",
   "metadata": {},
   "source": [
    "(array([2, 3, 4], dtype=int64),) 指的是满足condition的index"
   ]
  },
  {
   "cell_type": "code",
   "execution_count": 15,
   "metadata": {},
   "outputs": [
    {
     "data": {
      "text/plain": [
       "(array([3], dtype=int64),)"
      ]
     },
     "execution_count": 15,
     "metadata": {},
     "output_type": "execute_result"
    }
   ],
   "source": [
    "resulting_loss = [2.3, 5, 9, 1.2]\n",
    "np.where(resulting_loss == np.min(resulting_loss))"
   ]
  },
  {
   "attachments": {},
   "cell_type": "markdown",
   "metadata": {},
   "source": [
    "(array([3], dtype=int64),) 指满足condition的元素的index是3，也就是原list中的1.2"
   ]
  },
  {
   "cell_type": "code",
   "execution_count": 5,
   "metadata": {},
   "outputs": [
    {
     "data": {
      "text/plain": [
       "3"
      ]
     },
     "execution_count": 5,
     "metadata": {},
     "output_type": "execute_result"
    }
   ],
   "source": [
    "np.where(resulting_loss == np.min(resulting_loss))[0][0]"
   ]
  },
  {
   "attachments": {},
   "cell_type": "markdown",
   "metadata": {},
   "source": [
    "这里需要用[0][0]来取出满足条件的第一个元素是因为，np.where返回的是一个tuple，这个tuple只含有一个元素，是一个1D数组。<br>\n",
    "因此第一个[0]用来访问这个数组，第二个[0]访问该数组中的第一个元素"
   ]
  },
  {
   "attachments": {},
   "cell_type": "markdown",
   "metadata": {},
   "source": [
    "### tuple, list, array\n",
    "\n",
    "list, tuple是Python内置的数据类型，array是Numpy库的\n",
    "\n",
    "list是一种有序的可变序列(Mutable)，可以随时添加和删除其中的元素，可以存储任意类型的对象，括整数、浮点数、字符串、布尔值等等<br>\n",
    "tuple是一种有序的不可变序列，通常包含不同类型的元素。元组中的元素可以通过索引访问，但是不能更改。元组一旦创建就不能修改，这使得它们在存储固定数据时非常有用<br>\n",
    "array是一种数组类型，它可以包含相同类型的多个元素。数组中的元素可以通过索引访问。数组的长度可以在创建时指定，并且可以随时更改<br>"
   ]
  },
  {
   "cell_type": "code",
   "execution_count": 46,
   "metadata": {},
   "outputs": [
    {
     "data": {
      "text/plain": [
       "[4, 5, 6]"
      ]
     },
     "execution_count": 46,
     "metadata": {},
     "output_type": "execute_result"
    }
   ],
   "source": [
    "## define a function, which gets the slice from the middle node of a head till the end\n",
    "\n",
    "def middleNode(head):\n",
    "\n",
    "    middleNode_idx = len(head) // 2\n",
    "    rest_idx = list(range(middleNode_idx, len(head)))\n",
    "    rest = [head[i] for i in rest_idx]\n",
    "    return rest\n",
    "\n",
    "x = [1, 2, 3, 4, 5, 6]\n",
    "middleNode(x)"
   ]
  }
 ],
 "metadata": {
  "kernelspec": {
   "display_name": "Python 3",
   "language": "python",
   "name": "python3"
  },
  "language_info": {
   "codemirror_mode": {
    "name": "ipython",
    "version": 3
   },
   "file_extension": ".py",
   "mimetype": "text/x-python",
   "name": "python",
   "nbconvert_exporter": "python",
   "pygments_lexer": "ipython3",
   "version": "3.8.4"
  },
  "orig_nbformat": 4
 },
 "nbformat": 4,
 "nbformat_minor": 2
}
