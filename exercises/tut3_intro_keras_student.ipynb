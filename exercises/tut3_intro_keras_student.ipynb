{
 "cells": [
  {
   "attachments": {},
   "cell_type": "markdown",
   "metadata": {},
   "source": [
    "# Tutorial 3: An Introduction to Keras\n",
    "This tutorial covers \n",
    "- [What's Keras?](#sec-1)\n",
    "- [Example: Regression problem](#sec-2)"
   ]
  },
  {
   "attachments": {},
   "cell_type": "markdown",
   "metadata": {},
   "source": [
    "## What's Keras? <a class=\"anchor\" id=\"sec-1\"></a>\n",
    "Keras ([https://keras.io](https://keras.io)) is a deep learning API for Python. It is built on top of Tensorflow ([https://www.tensorflow.org/](https://www.tensorflow.org/)), and its primary purpose is to enable fast experimentation by offering simple workflows. Keras is great for learning and will suffice for many applied deep learning projects.\n",
    "\n",
    "TensorFlow is one of the most popular and powerful deep learning frameworks, but its use is more complicated when compared to Keras. For ADAMS, simplicity rules and matters more than the greater flexibility Tensorflow or other popular frameworks like [PyTorch](https://pytorch.org/), [MXNet](https://mxnet.apache.org/) have to offer. \n",
    "\n",
    "Let's start with Keras. To that end, we will first present the anatomy of Neural Networks from Keras's perspective. Then, we will illustrate its use with a regression example and let you get your hands-on with a multiclass classification exercise. "
   ]
  },
  {
   "attachments": {},
   "cell_type": "markdown",
   "metadata": {},
   "source": [
    "### Keras's perspective\n",
    "In Keras, the main class is the `Layer`. A layer is a module that transforms tensors, like LEGO bricks. The type of the layer depends on the tensor format and the type of data. For example, \n",
    "- Rank-2 tensor (samples, features) &rarr; dense layer (`Dense`).\n",
    "- Rank-3 tensor, such as sequence data, (samples, time, features) &rarr; recurrent layer (`LSTM`, `Conv1D`).\n",
    "- Rank-4 tensor, e.g. images &rarr; 2D convolution layer (`Conv2D`).\n",
    "\n",
    "`Layers` are assembled into the `Model` class. A deep learning model is not more than a graph of layers. For example, a model can be a stack of layers mapping a single input to a single output. That corresponds to the subclass of `Model` called `Sequential` in Keras. For example,\n",
    "\n",
    "```python\n",
    "model = keras.Sequential([\n",
    "    layers.Dense(64, activation=\"relu\"),\n",
    "    layers.Dense(64, activation=\"relu\"),\n",
    "    layers.Dense(1) # it does not have activation (linear layer by default)\n",
    "])\n",
    "```\n",
    "\n",
    "However, as long as we dive further in the course, we will find other network topologies, including two-branch networks, residual connections, etc. \n",
    "\n",
    "Before training your model, you will need to decide\n",
    "- which `optimizer` (`RMSprop`, `SGD`, etc.) you to use, \n",
    "- which `loss` function is adequate for the problem (`MeanSquaredError`, `CategoricalCrossentropy`, etc.), and \n",
    "- what `metrics` you want to monitor (`MAE`, `Accuracy`, etc.). \n",
    "\n",
    "All three are specified through the `compile()` method. \n",
    "\n",
    "Next, you'll use the `fit()` method to train the model. This method implements the loop itself, and its key arguments are the `data`, the number of `epochs`, and the `batch` size. Here we can also monitor the loss and metrics on the `validation` data.\n",
    "\n",
    "Finally, when the model is trained, we want to use it in new data. To this end, we use the method `predict()` to generate predictions on new data."
   ]
  },
  {
   "attachments": {},
   "cell_type": "markdown",
   "metadata": {},
   "source": [
    "## Example: Regression problem <a class=\"anchor\" id=\"sec-2\"></a>\n",
    "Let's learn how to use Keras with an example. The idea is to predict the median value of owner-occupied homes (in thousands of dollars) in a Boston suburb, given features such as crime rate, the average number of rooms, and so forth. We structure the task in 5 steps:\n",
    "1. Get the dataset.\n",
    "2. Prepare the data for the training. Here we transform the data to be suitable for a neural network.\n",
    "3. Build the model. We create the layers (`Dense` layer), graph (`Sequential` model) and compile the model (`compile()`).\n",
    "4. Validate the approach. We commonly use training and validation sets to tune our model (`fit()`). Then, retrain the model with the fine-tuned parameters and evaluate the model in the test set.\n",
    "5. Make predictions on a new dataset. Commonly on the test set (`predict()`)."
   ]
  },
  {
   "attachments": {},
   "cell_type": "markdown",
   "metadata": {},
   "source": [
    "### 1. Get the dataset\n",
    "Let's load the data"
   ]
  },
  {
   "cell_type": "code",
   "execution_count": 38,
   "metadata": {},
   "outputs": [],
   "source": [
    "from tensorflow.keras.datasets import boston_housing\n",
    "# this will split the data 80-20% by default\n",
    "(x_train, y_train), (x_test, y_test) = boston_housing.load_data()\n",
    "# if you want to try out different options, do the following\n",
    "# import tensorflow as tf\n",
    "# (x_train, y_train), (x_test, y_test) = tf.keras.datasets.boston_housing.load_data(path=\"boston_housing.npz\", test_split=0.2, seed=113)"
   ]
  },
  {
   "cell_type": "code",
   "execution_count": 2,
   "metadata": {},
   "outputs": [
    {
     "name": "stdout",
     "output_type": "stream",
     "text": [
      "Shape of train data: (404, 13) \n",
      "Shape of test data: (102, 13)\n"
     ]
    }
   ],
   "source": [
    "# Let's take a look at the shape of the data\n",
    "print('Shape of train data:',x_train.shape,\n",
    "'\\nShape of test data:', x_test.shape)"
   ]
  },
  {
   "cell_type": "code",
   "execution_count": 39,
   "metadata": {},
   "outputs": [
    {
     "data": {
      "text/html": [
       "<div>\n",
       "<style scoped>\n",
       "    .dataframe tbody tr th:only-of-type {\n",
       "        vertical-align: middle;\n",
       "    }\n",
       "\n",
       "    .dataframe tbody tr th {\n",
       "        vertical-align: top;\n",
       "    }\n",
       "\n",
       "    .dataframe thead th {\n",
       "        text-align: right;\n",
       "    }\n",
       "</style>\n",
       "<table border=\"1\" class=\"dataframe\">\n",
       "  <thead>\n",
       "    <tr style=\"text-align: right;\">\n",
       "      <th></th>\n",
       "      <th>0</th>\n",
       "      <th>1</th>\n",
       "      <th>2</th>\n",
       "      <th>3</th>\n",
       "      <th>4</th>\n",
       "      <th>5</th>\n",
       "      <th>6</th>\n",
       "      <th>7</th>\n",
       "      <th>8</th>\n",
       "      <th>9</th>\n",
       "      <th>10</th>\n",
       "      <th>11</th>\n",
       "      <th>12</th>\n",
       "    </tr>\n",
       "  </thead>\n",
       "  <tbody>\n",
       "    <tr>\n",
       "      <th>count</th>\n",
       "      <td>404.000000</td>\n",
       "      <td>404.000000</td>\n",
       "      <td>404.000000</td>\n",
       "      <td>404.000000</td>\n",
       "      <td>404.000000</td>\n",
       "      <td>404.000000</td>\n",
       "      <td>404.000000</td>\n",
       "      <td>404.000000</td>\n",
       "      <td>404.000000</td>\n",
       "      <td>404.000000</td>\n",
       "      <td>404.000000</td>\n",
       "      <td>404.000000</td>\n",
       "      <td>404.000000</td>\n",
       "    </tr>\n",
       "    <tr>\n",
       "      <th>mean</th>\n",
       "      <td>3.745111</td>\n",
       "      <td>11.480198</td>\n",
       "      <td>11.104431</td>\n",
       "      <td>0.061881</td>\n",
       "      <td>0.557356</td>\n",
       "      <td>6.267082</td>\n",
       "      <td>69.010644</td>\n",
       "      <td>3.740271</td>\n",
       "      <td>9.440594</td>\n",
       "      <td>405.898515</td>\n",
       "      <td>18.475990</td>\n",
       "      <td>354.783168</td>\n",
       "      <td>12.740817</td>\n",
       "    </tr>\n",
       "    <tr>\n",
       "      <th>std</th>\n",
       "      <td>9.240734</td>\n",
       "      <td>23.767711</td>\n",
       "      <td>6.811308</td>\n",
       "      <td>0.241238</td>\n",
       "      <td>0.117293</td>\n",
       "      <td>0.709788</td>\n",
       "      <td>27.940665</td>\n",
       "      <td>2.030215</td>\n",
       "      <td>8.698360</td>\n",
       "      <td>166.374543</td>\n",
       "      <td>2.200382</td>\n",
       "      <td>94.111148</td>\n",
       "      <td>7.254545</td>\n",
       "    </tr>\n",
       "    <tr>\n",
       "      <th>min</th>\n",
       "      <td>0.006320</td>\n",
       "      <td>0.000000</td>\n",
       "      <td>0.460000</td>\n",
       "      <td>0.000000</td>\n",
       "      <td>0.385000</td>\n",
       "      <td>3.561000</td>\n",
       "      <td>2.900000</td>\n",
       "      <td>1.129600</td>\n",
       "      <td>1.000000</td>\n",
       "      <td>188.000000</td>\n",
       "      <td>12.600000</td>\n",
       "      <td>0.320000</td>\n",
       "      <td>1.730000</td>\n",
       "    </tr>\n",
       "    <tr>\n",
       "      <th>25%</th>\n",
       "      <td>0.081437</td>\n",
       "      <td>0.000000</td>\n",
       "      <td>5.130000</td>\n",
       "      <td>0.000000</td>\n",
       "      <td>0.453000</td>\n",
       "      <td>5.874750</td>\n",
       "      <td>45.475000</td>\n",
       "      <td>2.077100</td>\n",
       "      <td>4.000000</td>\n",
       "      <td>279.000000</td>\n",
       "      <td>17.225000</td>\n",
       "      <td>374.672500</td>\n",
       "      <td>6.890000</td>\n",
       "    </tr>\n",
       "    <tr>\n",
       "      <th>50%</th>\n",
       "      <td>0.268880</td>\n",
       "      <td>0.000000</td>\n",
       "      <td>9.690000</td>\n",
       "      <td>0.000000</td>\n",
       "      <td>0.538000</td>\n",
       "      <td>6.198500</td>\n",
       "      <td>78.500000</td>\n",
       "      <td>3.142300</td>\n",
       "      <td>5.000000</td>\n",
       "      <td>330.000000</td>\n",
       "      <td>19.100000</td>\n",
       "      <td>391.250000</td>\n",
       "      <td>11.395000</td>\n",
       "    </tr>\n",
       "    <tr>\n",
       "      <th>75%</th>\n",
       "      <td>3.674808</td>\n",
       "      <td>12.500000</td>\n",
       "      <td>18.100000</td>\n",
       "      <td>0.000000</td>\n",
       "      <td>0.631000</td>\n",
       "      <td>6.609000</td>\n",
       "      <td>94.100000</td>\n",
       "      <td>5.118000</td>\n",
       "      <td>24.000000</td>\n",
       "      <td>666.000000</td>\n",
       "      <td>20.200000</td>\n",
       "      <td>396.157500</td>\n",
       "      <td>17.092500</td>\n",
       "    </tr>\n",
       "    <tr>\n",
       "      <th>max</th>\n",
       "      <td>88.976200</td>\n",
       "      <td>100.000000</td>\n",
       "      <td>27.740000</td>\n",
       "      <td>1.000000</td>\n",
       "      <td>0.871000</td>\n",
       "      <td>8.725000</td>\n",
       "      <td>100.000000</td>\n",
       "      <td>10.710300</td>\n",
       "      <td>24.000000</td>\n",
       "      <td>711.000000</td>\n",
       "      <td>22.000000</td>\n",
       "      <td>396.900000</td>\n",
       "      <td>37.970000</td>\n",
       "    </tr>\n",
       "  </tbody>\n",
       "</table>\n",
       "</div>"
      ],
      "text/plain": [
       "               0           1           2           3           4           5   \\\n",
       "count  404.000000  404.000000  404.000000  404.000000  404.000000  404.000000   \n",
       "mean     3.745111   11.480198   11.104431    0.061881    0.557356    6.267082   \n",
       "std      9.240734   23.767711    6.811308    0.241238    0.117293    0.709788   \n",
       "min      0.006320    0.000000    0.460000    0.000000    0.385000    3.561000   \n",
       "25%      0.081437    0.000000    5.130000    0.000000    0.453000    5.874750   \n",
       "50%      0.268880    0.000000    9.690000    0.000000    0.538000    6.198500   \n",
       "75%      3.674808   12.500000   18.100000    0.000000    0.631000    6.609000   \n",
       "max     88.976200  100.000000   27.740000    1.000000    0.871000    8.725000   \n",
       "\n",
       "               6           7           8           9           10          11  \\\n",
       "count  404.000000  404.000000  404.000000  404.000000  404.000000  404.000000   \n",
       "mean    69.010644    3.740271    9.440594  405.898515   18.475990  354.783168   \n",
       "std     27.940665    2.030215    8.698360  166.374543    2.200382   94.111148   \n",
       "min      2.900000    1.129600    1.000000  188.000000   12.600000    0.320000   \n",
       "25%     45.475000    2.077100    4.000000  279.000000   17.225000  374.672500   \n",
       "50%     78.500000    3.142300    5.000000  330.000000   19.100000  391.250000   \n",
       "75%     94.100000    5.118000   24.000000  666.000000   20.200000  396.157500   \n",
       "max    100.000000   10.710300   24.000000  711.000000   22.000000  396.900000   \n",
       "\n",
       "               12  \n",
       "count  404.000000  \n",
       "mean    12.740817  \n",
       "std      7.254545  \n",
       "min      1.730000  \n",
       "25%      6.890000  \n",
       "50%     11.395000  \n",
       "75%     17.092500  \n",
       "max     37.970000  "
      ]
     },
     "execution_count": 39,
     "metadata": {},
     "output_type": "execute_result"
    }
   ],
   "source": [
    "# Let's take a look at the features\n",
    "import pandas as pd\n",
    "pd.DataFrame(x_train).describe()"
   ]
  },
  {
   "attachments": {},
   "cell_type": "markdown",
   "metadata": {},
   "source": [
    "The descriptions of the features are the following (more details about this dataset can be found in [http://lib.stat.cmu.edu/datasets/boston](http://lib.stat.cmu.edu/datasets/boston))\n",
    "| # | Variable | Description |\n",
    "|---|---|---|\n",
    "| 1 | CRIM | per capita crime rate by town |\n",
    "| 2 | ZN | proportion of residential land zoned for lots over 25,000 sq.ft. |\n",
    "| 3 | INDUS | proportion of non-retail business acres per town |\n",
    "| 4 | CHAS | Charles River dummy variable (= 1 if tract bounds river; 0 otherwise) |\n",
    "| 5 | NOX | nitric oxides concentration (parts per 10 million) |\n",
    "| 6 | RM | average number of rooms per dwelling |\n",
    "| 7 | AGE | proportion of owner-occupied units built prior to 1940 |\n",
    "| 8 | DIS | weighted distances to five Boston employment centres |\n",
    "| 9 | RAD | index of accessibility to radial highways |\n",
    "| 10 | TAX | full-value property-tax rate per $10,000 |\n",
    "| 11 | PTRATIO | pupil-teacher ratio by town |\n",
    "| 12 | B | 1000(Bk - 0.63)^2 where Bk is the proportion of blacks by town |\n",
    "| 13 | LSTAT | % lower status of the population |\n",
    "| 14 | MEDV | Median value of owner-occupied homes in $1000's |\n",
    "\n",
    "So, we have 404 samples to train and 102 to test, each with 13 numerical features. The target is the median values of homes. Let's have a quick look at them"
   ]
  },
  {
   "cell_type": "code",
   "execution_count": 41,
   "metadata": {},
   "outputs": [
    {
     "data": {
      "image/png": "[encoded data removed]",
      "text/plain": [
       "<Figure size 640x480 with 1 Axes>"
      ]
     },
     "metadata": {},
     "output_type": "display_data"
    }
   ],
   "source": [
    "#Plot the values of the target variable: \n",
    "\n",
    "\n",
    "import matplotlib.pyplot as plt\n",
    "\n",
    "plt.hist(y_train)\n",
    "plt.xlabel('target variable: MEDV')\n",
    "plt.ylabel('Frequency')\n",
    "plt.show()\n"
   ]
  },
  {
   "attachments": {},
   "cell_type": "markdown",
   "metadata": {},
   "source": [
    "### 2. Data preparation\n",
    "We saw that `x_train` takes different ranges. This is problematic for neural networks, so a common practice is to standardize each feature."
   ]
  },
  {
   "cell_type": "code",
   "execution_count": 32,
   "metadata": {},
   "outputs": [],
   "source": [
    "#Feature rescaling:\n",
    "\n",
    "from sklearn. preprocessing import StandardScaler\n",
    "standardscaler = StandardScaler()\n",
    "x_train_scaled = standardscaler.fit_transform(x_train)\n"
   ]
  },
  {
   "attachments": {},
   "cell_type": "markdown",
   "metadata": {},
   "source": [
    "### 3. Building the model\n",
    "We are ready to build our model. Since the sample size is small, two layers with 64 units will be enough to avoid overfitting. We use ReLU as the non-linearity. "
   ]
  },
  {
   "cell_type": "code",
   "execution_count": 35,
   "metadata": {},
   "outputs": [],
   "source": [
    "from tensorflow import keras\n",
    "from tensorflow.keras import layers\n",
    "#Build the model:\n",
    "\n",
    "model = keras.Sequential([\n",
    "    layers.Dense(64, activation=\"relu\"),\n",
    "    layers.Dense(64, activation=\"relu\"),\n",
    "    layers.Dense(1)\n",
    "])"
   ]
  },
  {
   "attachments": {},
   "cell_type": "markdown",
   "metadata": {},
   "source": [
    "We compile our model using `Adam` as the optimization algorithm. Of course, there are many other alternatives for the `optimizer`, such as `SGD`, `Adagrad`, `Adadelta`, etc. (see [https://keras.io/api/optimizers/](https://keras.io/api/optimizers/)).\n",
    "\n",
    "We use the Mean Square Error as the loss (`mse`) (see [https://keras.io/api/losses/](https://keras.io/api/losses/) for other alternatives). We also track the Mean Absolute Error (`mae`) defined in `metrics`. "
   ]
  },
  {
   "cell_type": "code",
   "execution_count": 37,
   "metadata": {},
   "outputs": [],
   "source": [
    "#compile the model:\n",
    "\n",
    "model.compile(optimizer='Adam',\n",
    "              loss='mse',\n",
    "              metrics='mae')"
   ]
  },
  {
   "attachments": {},
   "cell_type": "markdown",
   "metadata": {},
   "source": [
    "### 4. Validate the approach\n",
    "In this step, we fit the model. To do it, we first create a validation set from the train data."
   ]
  },
  {
   "cell_type": "code",
   "execution_count": 3,
   "metadata": {},
   "outputs": [],
   "source": [
    "#Split into train and validation set:\n",
    "\n",
    "from sklearn.model_selection import train_test_split"
   ]
  },
  {
   "attachments": {},
   "cell_type": "markdown",
   "metadata": {},
   "source": [
    "For the training we will use 100 epochs and a batch size of 16"
   ]
  },
  {
   "cell_type": "code",
   "execution_count": 4,
   "metadata": {},
   "outputs": [],
   "source": [
    "# Fit the model:\n",
    "\n",
    "model.fit(x_train_scaled, y_train, validation_split=0.33, epochs=100, batch_size=16)"
   ]
  },
  {
   "attachments": {},
   "cell_type": "markdown",
   "metadata": {},
   "source": [
    "Let's plot the training and validation loss"
   ]
  },
  {
   "cell_type": "code",
   "execution_count": 5,
   "metadata": {},
   "outputs": [],
   "source": [
    "#Plot the training and the validation loss using the training history from the fitted model:\n",
    "\n"
   ]
  },
  {
   "cell_type": "code",
   "execution_count": 6,
   "metadata": {},
   "outputs": [],
   "source": [
    "#Build the model again:\n",
    "#compile it, train it and test it:"
   ]
  },
  {
   "attachments": {},
   "cell_type": "markdown",
   "metadata": {},
   "source": [
    "### 5. Generate predictions on new data\n",
    "The function `predict()` returns the predicted median price of the houses (in $1,000)."
   ]
  },
  {
   "cell_type": "code",
   "execution_count": 7,
   "metadata": {},
   "outputs": [],
   "source": [
    "#Generate predictions and plot them:"
   ]
  }
 ],
 "metadata": {
  "interpreter": {
   "hash": "071737a5efb5187f1b8a7f5eacd9bb694a30cbbaa4393dd0a3bebb490d9d36dd"
  },
  "kernelspec": {
   "display_name": "Python 3 (ipykernel)",
   "language": "python",
   "name": "python3"
  },
  "language_info": {
   "codemirror_mode": {
    "name": "ipython",
    "version": 3
   },
   "file_extension": ".py",
   "mimetype": "text/x-python",
   "name": "python",
   "nbconvert_exporter": "python",
   "pygments_lexer": "ipython3",
   "version": "3.8.4"
  }
 },
 "nbformat": 4,
 "nbformat_minor": 4
}
